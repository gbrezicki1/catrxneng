{
 "cells": [
  {
   "cell_type": "markdown",
   "id": "0f79a956-0f93-4412-9d8b-46e468e5cd51",
   "metadata": {},
   "source": [
    "### RWGS in an ideal PFR"
   ]
  },
  {
   "cell_type": "code",
   "execution_count": null,
   "id": "216325bd-ceef-49bd-8235-6b883cf4a79e",
   "metadata": {},
   "outputs": [],
   "source": [
    "import numpy as np, sklearn\n",
    "import catrxneng as cat\n",
    "\n",
    "w = 2 # g\n",
    "P = 20 # bara\n",
    "whsv = {\"nmlm/gcat\": 100}\n",
    "mol_gas_vol = cat.constants.mol_gas_vol\n",
    "whsv[\"mmol/min/gcat\"] = whsv[\"nmlm/gcat\"] / mol_gas_vol[\"nL/mol\"]\n",
    "labels = [\"co2\", \"h2\", \"co\", \"h2o\", \"inert\"]\n",
    "y0 = np.array([0.2, 0.6, 0, 0, 0.2])\n",
    "k1f = 0.02\n",
    "k1r = 31 * k1f\n",
    "r = np.array([\n",
    "    lambda p: k1r*p[2]*p[3] - k1f*p[0]*p[1],\n",
    "    lambda p: k1r*p[2]*p[3] - k1f*p[0]*p[1],\n",
    "    lambda p: k1f*p[0]*p[1] - k1r*p[2]*p[3],\n",
    "    lambda p: k1f*p[0]*p[1] - k1r*p[2]*p[3],\n",
    "    lambda p: 0,\n",
    "])\n",
    "\n",
    "pfr = cat.reactors.PFR(w=w,P=P,whsv=whsv[\"mmol/min/gcat\"],y0=y0,r=r)\n",
    "rwgs = cat.reactions.RWGS(temp_C=320)\n",
    "Xeq = rwgs.Xeq(p0=y0*P)\n",
    "pfr.plot_conv_vs_w(\"CO2 conv.\",Xeq)"
   ]
  },
  {
   "cell_type": "code",
   "execution_count": null,
   "id": "8bd10411-7893-480e-869f-1f4fc0c65c3d",
   "metadata": {},
   "outputs": [],
   "source": []
  }
 ],
 "metadata": {
  "kernelspec": {
   "display_name": "Python 3 (ipykernel)",
   "language": "python",
   "name": "python3"
  },
  "language_info": {
   "codemirror_mode": {
    "name": "ipython",
    "version": 3
   },
   "file_extension": ".py",
   "mimetype": "text/x-python",
   "name": "python",
   "nbconvert_exporter": "python",
   "pygments_lexer": "ipython3",
   "version": "3.12.7"
  }
 },
 "nbformat": 4,
 "nbformat_minor": 5
}
