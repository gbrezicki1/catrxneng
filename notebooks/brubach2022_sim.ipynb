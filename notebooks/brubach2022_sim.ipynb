{
 "cells": [
  {
   "cell_type": "code",
   "execution_count": 2,
   "id": "1adc3f7b-41af-4801-b756-2b5f48427b5a",
   "metadata": {},
   "outputs": [],
   "source": [
    "import catrxneng as cat, numpy as np"
   ]
  },
  {
   "cell_type": "markdown",
   "id": "1aecb5f9-8218-49fb-bafe-d39fc4345f37",
   "metadata": {},
   "source": [
    "##### Constants and initial values"
   ]
  },
  {
   "cell_type": "code",
   "execution_count": null,
   "id": "51a81adc-2607-4eb5-9ef0-0f503e6f6209",
   "metadata": {},
   "outputs": [],
   "source": [
    "components = [\"co2\", \"h2\", \"co\", \"h2o\"]\n",
    "w = 2  # gcat\n",
    "P = 15  # bar\n",
    "T = 300  # deg C\n",
    "Tref = 300  # deg C\n",
    "ghsv = 120000  # smL/min/gcat\n",
    "h2_co2_ratio = 3\n",
    "p_co2 = P / (h2_co2_ratio + 1)\n",
    "p_h2 = P - p_co2\n",
    "p0 = np.array([p_co2, p_h2, 0, 0])\n",
    "a_rwgs = 16.3\n",
    "a_ft = 9.07\n",
    "b_ft = 2.44  # 1/bar\n",
    "kref_rwgs = 8.13e-2\n",
    "kref_ft = 6.39e-2\n",
    "Ea_rwgs = 115  # kJ/mol\n",
    "Ea_ft = 68  # kJ/mol\n",
    "R = cat.constants.R[\"kJ/mol/K\"]"
   ]
  },
  {
   "cell_type": "markdown",
   "id": "f444afad-83d2-4ec5-9d6c-440019fd7a6f",
   "metadata": {},
   "source": [
    "##### Rate model"
   ]
  },
  {
   "cell_type": "code",
   "execution_count": null,
   "id": "057e55e7-a72e-4454-80ee-9c1b81db09f5",
   "metadata": {},
   "outputs": [],
   "source": [
    "k = lambda kref, Ea, Tref, T: kref * np.exp(-Ea / R * (1 / T - 1 / Tref))\n",
    "k_rwgs = lambda T: k(kref_rwgs, Ea_rwgs, Tref, T)\n",
    "k_ft = lambda T: k(kref_ft, Ea_rwgs, Tref, T)\n",
    "\n",
    "def r_rwgs(p, T):\n",
    "\n",
    "\n",
    "r_rwgs2 = (\n",
    "    lambda p, T: k_rwgs(T)\n",
    "    * (p[0] * p[1] ** 0.5 - p[2] * p[3] / (Keq * p[1] ** 0.5))\n",
    "    / ((1 + a_rwgs * p[3] / p[1]) ** 2)\n",
    ")\n",
    "r_ft = (\n",
    "    lambda p, T: k_ft(T) * p[1] * p[2] / ((1 + a_ft * p[3] / p[1] + b_ft * p[2]) ** 2)\n",
    ")\n",
    "\n",
    "r = np.array(\n",
    "    [\n",
    "        lambda p, T: -r_rwgs(p, T),\n",
    "        lambda p, T: -r_rwgs(p, T),\n",
    "        lambda p, T: 1,\n",
    "        lambda p, T: 1,\n",
    "    ]\n",
    ")"
   ]
  },
  {
   "cell_type": "code",
   "execution_count": null,
   "id": "3696a383-dd44-4b20-b5a9-3b2fc6012e90",
   "metadata": {},
   "outputs": [],
   "source": [
    "pfr = cat.pfr(components, w, P, ghsv, p0, r)"
   ]
  }
 ],
 "metadata": {
  "kernelspec": {
   "display_name": "venv",
   "language": "python",
   "name": "python3"
  },
  "language_info": {
   "codemirror_mode": {
    "name": "ipython",
    "version": 3
   },
   "file_extension": ".py",
   "mimetype": "text/x-python",
   "name": "python",
   "nbconvert_exporter": "python",
   "pygments_lexer": "ipython3",
   "version": "3.10.12"
  }
 },
 "nbformat": 4,
 "nbformat_minor": 5
}
