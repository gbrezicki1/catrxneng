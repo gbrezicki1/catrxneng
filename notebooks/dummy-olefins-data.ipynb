{
 "cells": [
  {
   "cell_type": "markdown",
   "id": "f9f1b86c-28e1-4713-a5c2-ceee664318ca",
   "metadata": {},
   "source": [
    "## Reaction model setup\n",
    "RWGS:\n",
    "$$\n",
    "\\ce{ CO_{2} + H_{2}<=>[k_{1}][k_{-1}]CO + H_{2}O } \n",
    "$$\n",
    "FT:\n",
    "\n",
    "Methanation:\n",
    "$$\n",
    "\\ce{ CO_{2} +4H_{2} ->[][]CH_{4} + 2H_{2}O  }\n",
    "$$"
   ]
  },
  {
   "cell_type": "code",
   "execution_count": 5,
   "id": "cbc522f0-df09-4f10-9eb0-e9660e919a67",
   "metadata": {},
   "outputs": [],
   "source": [
    "import numpy as np\n",
    "mcat = 0.5 # g\n",
    "F_tot = 200/1000/22.4 # mol/min\n",
    "P = 30 # bar\n",
    "k1 = 0.00001 # RWGS apparent rate constant\n",
    "k2 = 0.000005 # methanation apparent rate constant\n",
    "a1 = 1 # RWGS CO2 apparent reaction order\n",
    "b1 = 0.5 # RWGS H2 apparent reaction order\n",
    "a2 = 1 # methanation CO2 apparent reaction order\n",
    "b2 = 0 # methanation H2 apparent reaction order\n",
    "r1 = np.vectorize(lambda pCO2,pH2: k1*pCO2**a1*pH2**b1)\n",
    "r2 = np.vectorize(lambda pCO2,pH2: k2*pCO2**a2*pH2**b2)"
   ]
  },
  {
   "cell_type": "code",
   "execution_count": null,
   "id": "43d2dfe4-f432-409e-8f57-e1e6914b0aba",
   "metadata": {},
   "outputs": [],
   "source": [
    "pCO2 = np.array([0.1,0.2,0.3])*P\n",
    "pH2 = np.array([0.1,0.2,0.3])*P\n",
    "r1_1 = r1(pCO2,pH2[0])\n",
    "r2_1 = r2(pCO2,pH2[0])"
   ]
  },
  {
   "cell_type": "code",
   "execution_count": null,
   "id": "2184a4d7-9873-4000-a0d1-611d66bf599b",
   "metadata": {},
   "outputs": [],
   "source": []
  }
 ],
 "metadata": {
  "kernelspec": {
   "display_name": "Python 3 (ipykernel)",
   "language": "python",
   "name": "python3"
  },
  "language_info": {
   "codemirror_mode": {
    "name": "ipython",
    "version": 3
   },
   "file_extension": ".py",
   "mimetype": "text/x-python",
   "name": "python",
   "nbconvert_exporter": "python",
   "pygments_lexer": "ipython3",
   "version": "3.12.7"
  }
 },
 "nbformat": 4,
 "nbformat_minor": 5
}
